{
 "cells": [
  {
   "cell_type": "markdown",
   "metadata": {},
   "source": [
    "# GradientBoostingClassifier for DevCentre Hackathon\n",
    "I decided to have a tutorial on the approach i used in winning the devcenter ML hackathon.So, let's get started!!!."
   ]
  },
  {
   "cell_type": "code",
   "execution_count": 1,
   "metadata": {
    "collapsed": true
   },
   "outputs": [],
   "source": [
    "#import neccssary libraries\n",
    "import pandas as pd #for data processing\n",
    "import numpy as np #for linear algebra\n",
    "%matplotlib inline\n",
    "\n",
    "#for the Algorithm\n",
    "from sklearn.ensemble import GradientBoostingClassifier\n",
    "from sklearn.metrics import accuracy_score, roc_auc_score\n",
    "from sklearn.model_selection import cross_val_score, GridSearchCV\n",
    "\n",
    "#for visualization\n",
    "import matplotlib.pylab as plt\n",
    "from matplotlib.pylab import rcParams\n",
    "rcParams['figure.figsize'] = 11, 3\n"
   ]
  },
  {
   "cell_type": "markdown",
   "metadata": {},
   "source": [
    "# Exploration of the dataset\n",
    "The dataset given contained binary values in the target column. I could have used a Logistics regression but i decided to go with the GBC. Let's take a look at the dataset."
   ]
  },
  {
   "cell_type": "code",
   "execution_count": 2,
   "metadata": {
    "collapsed": false
   },
   "outputs": [
    {
     "name": "stdout",
     "output_type": "stream",
     "text": [
      "Train Data\n",
      "   Time        V1        V2        V3        V4        V5        V6        V7  \\\n",
      "0   0.0 -1.359807 -0.072781  2.536347  1.378155 -0.338321  0.462388  0.239599   \n",
      "1   0.0  1.191857  0.266151  0.166480  0.448154  0.060018 -0.082361 -0.078803   \n",
      "2   1.0 -1.358354 -1.340163  1.773209  0.379780 -0.503198  1.800499  0.791461   \n",
      "\n",
      "         V8        V9  ...         V21       V22       V23       V24  \\\n",
      "0  0.098698  0.363787  ...   -0.018307  0.277838 -0.110474  0.066928   \n",
      "1  0.085102 -0.255425  ...   -0.225775 -0.638672  0.101288 -0.339846   \n",
      "2  0.247676 -1.514654  ...    0.247998  0.771679  0.909412 -0.689281   \n",
      "\n",
      "        V25       V26       V27       V28  Amount  Class  \n",
      "0  0.128539 -0.189115  0.133558 -0.021053  149.62    0.0  \n",
      "1  0.167170  0.125895 -0.008983  0.014724    2.69    0.0  \n",
      "2 -0.327642 -0.139097 -0.055353 -0.059752  378.66    0.0  \n",
      "\n",
      "[3 rows x 31 columns]\n",
      "Test Data\n",
      "   Time        V1        V2        V3        V4        V5        V6        V7  \\\n",
      "0   0.0 -1.359807 -0.072781  2.536347  1.378155 -0.338321  0.462388  0.239599   \n",
      "1   0.0  1.191857  0.266151  0.166480  0.448154  0.060018 -0.082361 -0.078803   \n",
      "2   1.0 -1.358354 -1.340163  1.773209  0.379780 -0.503198  1.800499  0.791461   \n",
      "\n",
      "         V8        V9  ...         V21       V22       V23       V24  \\\n",
      "0  0.098698  0.363787  ...   -0.018307  0.277838 -0.110474  0.066928   \n",
      "1  0.085102 -0.255425  ...   -0.225775 -0.638672  0.101288 -0.339846   \n",
      "2  0.247676 -1.514654  ...    0.247998  0.771679  0.909412 -0.689281   \n",
      "\n",
      "        V25       V26       V27       V28  Amount  Class  \n",
      "0  0.128539 -0.189115  0.133558 -0.021053  149.62    0.0  \n",
      "1  0.167170  0.125895 -0.008983  0.014724    2.69    0.0  \n",
      "2 -0.327642 -0.139097 -0.055353 -0.059752  378.66    0.0  \n",
      "\n",
      "[3 rows x 31 columns]\n"
     ]
    }
   ],
   "source": [
    "train_data = pd.read_csv('train.csv')\n",
    "test_data = pd.read_csv('train.csv')\n",
    "print(\"Train Data\")\n",
    "print(train_data.head(3))\n",
    "print(\"Test Data\")\n",
    "print(test_data.head(3))"
   ]
  },
  {
   "cell_type": "code",
   "execution_count": 3,
   "metadata": {
    "collapsed": false
   },
   "outputs": [
    {
     "data": {
      "text/plain": [
       "(170886, 31)"
      ]
     },
     "execution_count": 3,
     "metadata": {},
     "output_type": "execute_result"
    }
   ],
   "source": [
    "train_data.shape"
   ]
  },
  {
   "cell_type": "code",
   "execution_count": 24,
   "metadata": {
    "collapsed": false
   },
   "outputs": [
    {
     "data": {
      "text/plain": [
       "<matplotlib.axes._subplots.AxesSubplot at 0x7f5c3f633ac8>"
      ]
     },
     "execution_count": 24,
     "metadata": {},
     "output_type": "execute_result"
    },
    {
     "data": {
      "image/png": "[encoded data removed]",
      "text/plain": [
       "<matplotlib.figure.Figure at 0x7f5c4786cef0>"
      ]
     },
     "metadata": {},
     "output_type": "display_data"
    }
   ],
   "source": [
    "sns.countplot(x=\"Class\",data= train_data, palette=\"GnBu_d\")"
   ]
  },
  {
   "cell_type": "markdown",
   "metadata": {},
   "source": [
    "This distribution shows that the dataset is not balance.Strategies such as collection of more data or using of different algorithm could be employed. Don't worry GBC will take good care of this."
   ]
  },
  {
   "cell_type": "markdown",
   "metadata": {},
   "source": [
    "I didn't find the time column to be really important.So,I didn't use it. "
   ]
  },
  {
   "cell_type": "code",
   "execution_count": 4,
   "metadata": {
    "collapsed": false
   },
   "outputs": [
    {
     "name": "stdout",
     "output_type": "stream",
     "text": [
      "['V1', 'V2', 'V3', 'V4', 'V5', 'V6', 'V7', 'V8', 'V9', 'V10', 'V11', 'V12', 'V13', 'V14', 'V15', 'V16', 'V17', 'V18', 'V19', 'V20', 'V21', 'V22', 'V23', 'V24', 'V25', 'V26', 'V27', 'V28', 'Amount']\n"
     ]
    }
   ],
   "source": [
    "features = [columns for columns in train_data.columns if columns not in [\"Class\", \"Time\"] ]\n",
    "print(features)"
   ]
  },
  {
   "cell_type": "markdown",
   "metadata": {},
   "source": [
    "# LETS GET STARTED WITH THE TRAINNING.\n",
    "First let's have a feel of GBC.\n"
   ]
  },
  {
   "cell_type": "code",
   "execution_count": 5,
   "metadata": {
    "collapsed": true
   },
   "outputs": [],
   "source": [
    "def hackathon_GBC_model(clf, train, features):\n",
    "    clf.fit(train[features], train[\"Class\"])\n",
    "    probab_of_predict = clf.predict_proba(train[features])[:,1]\n",
    "    predict_train = clf.predict(train[features])\n",
    "\n",
    "\n",
    "    cv_score = cross_val_score(clf,train[features], train[\"Class\"], cv = 5, scoring=\"roc_auc\")\n",
    "\n",
    "    print(\"----------------------Model performance-----------------------\")\n",
    "    print(\"Accuracy score: \", accuracy_score(train[\"Class\"].values, predict_train))\n",
    "    print(\"AUC: \", roc_auc_score(train[\"Class\"],probab_of_predict) )\n",
    "    print(\"CV score: Mean - {}, Max - {}, Min - {}, Std - {}\".format(np.mean(cv_score), np.max(cv_score),\n",
    "                                                                     np.min(cv_score), np.std(cv_score)))\n",
    "\n",
    "    Relative_Feature_importance = pd.Series(clf.feature_importances_, features).sort_values(ascending=False)\n",
    "    Relative_Feature_importance.plot(kind='bar', title='Order of Feature Importance')\n",
    "    plt.ylabel('Feature Importance')\n",
    "    plt.show()\n",
    "\n",
    "\n"
   ]
  },
  {
   "cell_type": "code",
   "execution_count": 6,
   "metadata": {
    "collapsed": false
   },
   "outputs": [
    {
     "name": "stdout",
     "output_type": "stream",
     "text": [
      "----------------------Model performance-----------------------\n",
      "Accuracy score:  0.999420666409\n",
      "AUC:  0.955667219857\n",
      "CV score: Mean - 0.6497444229874608, Max - 0.9950612080340127, Min - 0.1933811743779198, Std - 0.28574055008042426\n"
     ]
    },
    {
     "data": {
      "image/png": "[encoded data removed]",
      "text/plain": [
       "<matplotlib.figure.Figure at 0x7fb5f40e7470>"
      ]
     },
     "metadata": {},
     "output_type": "display_data"
    },
    {
     "name": "stdout",
     "output_type": "stream",
     "text": [
      "None\n"
     ]
    }
   ],
   "source": [
    "clf = GradientBoostingClassifier(random_state=15)\n",
    "print(hackathon_GBC_model(clf, train_data, features))\n"
   ]
  },
  {
   "cell_type": "markdown",
   "metadata": {},
   "source": [
    "# Let's start with tunning of the parameters.\n",
    "1) Get the n_estimators. we use the Gvsearch for this.\n",
    "\n"
   ]
  },
  {
   "cell_type": "code",
   "execution_count": 7,
   "metadata": {
    "collapsed": false
   },
   "outputs": [
    {
     "name": "stdout",
     "output_type": "stream",
     "text": [
      "[mean: 0.83381, std: 0.11022, params: {'n_estimators': 10}, mean: 0.82112, std: 0.09598, params: {'n_estimators': 20}, mean: 0.85345, std: 0.03261, params: {'n_estimators': 30}, mean: 0.88329, std: 0.02424, params: {'n_estimators': 40}, mean: 0.78872, std: 0.22527, params: {'n_estimators': 50}, mean: 0.79531, std: 0.21053, params: {'n_estimators': 60}, mean: 0.72746, std: 0.22459, params: {'n_estimators': 70}, mean: 0.72091, std: 0.23537, params: {'n_estimators': 80}, mean: 0.71720, std: 0.24101, params: {'n_estimators': 90}, mean: 0.67742, std: 0.23414, params: {'n_estimators': 100}, mean: 0.69615, std: 0.24451, params: {'n_estimators': 110}, mean: 0.68438, std: 0.25182, params: {'n_estimators': 120}, mean: 0.71519, std: 0.21063, params: {'n_estimators': 130}] {'n_estimators': 40} 0.883290664027\n"
     ]
    },
    {
     "name": "stderr",
     "output_type": "stream",
     "text": [
      "/usr/local/lib/python3.5/dist-packages/sklearn/model_selection/_search.py:667: DeprecationWarning: The grid_scores_ attribute was deprecated in version 0.18 in favor of the more elaborate cv_results_ attribute. The grid_scores_ attribute will not be available from 0.20\n",
      "  DeprecationWarning)\n"
     ]
    }
   ],
   "source": [
    "estimators = [x for x in range(10,131,10)]\n",
    "first_tune = {'n_estimators': estimators}\n",
    "first_search = GridSearchCV(estimator=GradientBoostingClassifier(learning_rate=0.05,min_samples_split=700,\n",
    "                                                                 min_samples_leaf=70,\n",
    "                                                                 max_depth=8,max_features='sqrt',subsample=0.8, \n",
    "                                                                 random_state=15, \n",
    "                                                                 )\n",
    "                   , param_grid=first_tune,scoring='roc_auc', n_jobs=6, iid=False, cv=5)\n",
    "\n",
    "first_search.fit(train_data[features], train_data[\"Class\"])\n",
    "\n",
    "print(first_search.grid_scores_ , first_search.best_params_, first_search.best_score_)\n",
    "\n"
   ]
  },
  {
   "cell_type": "markdown",
   "metadata": {},
   "source": [
    "Good!!!, forty did the job.\n",
    "let's fix our n_estimators to 40.\n"
   ]
  },
  {
   "cell_type": "markdown",
   "metadata": {},
   "source": [
    "# Let's tune tree specific parameters"
   ]
  },
  {
   "cell_type": "markdown",
   "metadata": {},
   "source": [
    "Now let's tune the max_depth and min_samples_split parameter.\n",
    "NB- These processes are computationally expensive,it depends highly on the tuning and system used. A good understanding of the model and having a good instincts will help in not repeating processes."
   ]
  },
  {
   "cell_type": "code",
   "execution_count": 6,
   "metadata": {
    "collapsed": false
   },
   "outputs": [
    {
     "name": "stdout",
     "output_type": "stream",
     "text": [
      "[mean: 0.82742, std: 0.13157, params: {'min_samples_split': 300, 'max_depth': 5}, mean: 0.85410, std: 0.05544, params: {'min_samples_split': 400, 'max_depth': 5}, mean: 0.76108, std: 0.15954, params: {'min_samples_split': 500, 'max_depth': 5}, mean: 0.72960, std: 0.17131, params: {'min_samples_split': 600, 'max_depth': 5}, mean: 0.74128, std: 0.18396, params: {'min_samples_split': 700, 'max_depth': 5}, mean: 0.73495, std: 0.16947, params: {'min_samples_split': 800, 'max_depth': 5}, mean: 0.69350, std: 0.17094, params: {'min_samples_split': 900, 'max_depth': 5}, mean: 0.70975, std: 0.19064, params: {'min_samples_split': 1000, 'max_depth': 5}, mean: 0.72439, std: 0.15229, params: {'min_samples_split': 1100, 'max_depth': 5}, mean: 0.77450, std: 0.14819, params: {'min_samples_split': 300, 'max_depth': 6}, mean: 0.71253, std: 0.15098, params: {'min_samples_split': 400, 'max_depth': 6}, mean: 0.84991, std: 0.07304, params: {'min_samples_split': 500, 'max_depth': 6}, mean: 0.85462, std: 0.05722, params: {'min_samples_split': 600, 'max_depth': 6}, mean: 0.85558, std: 0.06004, params: {'min_samples_split': 700, 'max_depth': 6}, mean: 0.85703, std: 0.06221, params: {'min_samples_split': 800, 'max_depth': 6}, mean: 0.80031, std: 0.12856, params: {'min_samples_split': 900, 'max_depth': 6}, mean: 0.80831, std: 0.12897, params: {'min_samples_split': 1000, 'max_depth': 6}, mean: 0.79395, std: 0.09436, params: {'min_samples_split': 1100, 'max_depth': 6}, mean: 0.87992, std: 0.03619, params: {'min_samples_split': 300, 'max_depth': 7}, mean: 0.83870, std: 0.06527, params: {'min_samples_split': 400, 'max_depth': 7}, mean: 0.78162, std: 0.20126, params: {'min_samples_split': 500, 'max_depth': 7}, mean: 0.78803, std: 0.20627, params: {'min_samples_split': 600, 'max_depth': 7}, mean: 0.82627, std: 0.08454, params: {'min_samples_split': 700, 'max_depth': 7}, mean: 0.81869, std: 0.07443, params: {'min_samples_split': 800, 'max_depth': 7}, mean: 0.86500, std: 0.04659, params: {'min_samples_split': 900, 'max_depth': 7}, mean: 0.86761, std: 0.05596, params: {'min_samples_split': 1000, 'max_depth': 7}, mean: 0.78981, std: 0.06674, params: {'min_samples_split': 1100, 'max_depth': 7}, mean: 0.68584, std: 0.24272, params: {'min_samples_split': 300, 'max_depth': 8}, mean: 0.71104, std: 0.22807, params: {'min_samples_split': 400, 'max_depth': 8}, mean: 0.83481, std: 0.13408, params: {'min_samples_split': 500, 'max_depth': 8}, mean: 0.88043, std: 0.05037, params: {'min_samples_split': 600, 'max_depth': 8}, mean: 0.88329, std: 0.02424, params: {'min_samples_split': 700, 'max_depth': 8}, mean: 0.87857, std: 0.05428, params: {'min_samples_split': 800, 'max_depth': 8}, mean: 0.88014, std: 0.05123, params: {'min_samples_split': 900, 'max_depth': 8}, mean: 0.88847, std: 0.05700, params: {'min_samples_split': 1000, 'max_depth': 8}, mean: 0.88283, std: 0.02790, params: {'min_samples_split': 1100, 'max_depth': 8}, mean: 0.75730, std: 0.13855, params: {'min_samples_split': 300, 'max_depth': 9}, mean: 0.75388, std: 0.15514, params: {'min_samples_split': 400, 'max_depth': 9}, mean: 0.77718, std: 0.13644, params: {'min_samples_split': 500, 'max_depth': 9}, mean: 0.84691, std: 0.05846, params: {'min_samples_split': 600, 'max_depth': 9}, mean: 0.79345, std: 0.14173, params: {'min_samples_split': 700, 'max_depth': 9}, mean: 0.81097, std: 0.14466, params: {'min_samples_split': 800, 'max_depth': 9}, mean: 0.84901, std: 0.08991, params: {'min_samples_split': 900, 'max_depth': 9}, mean: 0.80783, std: 0.14619, params: {'min_samples_split': 1000, 'max_depth': 9}, mean: 0.78839, std: 0.12749, params: {'min_samples_split': 1100, 'max_depth': 9}, mean: 0.77688, std: 0.17827, params: {'min_samples_split': 300, 'max_depth': 10}, mean: 0.66831, std: 0.17238, params: {'min_samples_split': 400, 'max_depth': 10}, mean: 0.73858, std: 0.18891, params: {'min_samples_split': 500, 'max_depth': 10}, mean: 0.86389, std: 0.06117, params: {'min_samples_split': 600, 'max_depth': 10}, mean: 0.74009, std: 0.20200, params: {'min_samples_split': 700, 'max_depth': 10}, mean: 0.79199, std: 0.15555, params: {'min_samples_split': 800, 'max_depth': 10}, mean: 0.88573, std: 0.05511, params: {'min_samples_split': 900, 'max_depth': 10}, mean: 0.78925, std: 0.17309, params: {'min_samples_split': 1000, 'max_depth': 10}, mean: 0.87110, std: 0.04419, params: {'min_samples_split': 1100, 'max_depth': 10}, mean: 0.88860, std: 0.05456, params: {'min_samples_split': 300, 'max_depth': 11}, mean: 0.68446, std: 0.19196, params: {'min_samples_split': 400, 'max_depth': 11}, mean: 0.78617, std: 0.11309, params: {'min_samples_split': 500, 'max_depth': 11}, mean: 0.77386, std: 0.19781, params: {'min_samples_split': 600, 'max_depth': 11}, mean: 0.91111, std: 0.04590, params: {'min_samples_split': 700, 'max_depth': 11}, mean: 0.91318, std: 0.03047, params: {'min_samples_split': 800, 'max_depth': 11}, mean: 0.75544, std: 0.19047, params: {'min_samples_split': 900, 'max_depth': 11}, mean: 0.77609, std: 0.19428, params: {'min_samples_split': 1000, 'max_depth': 11}, mean: 0.81582, std: 0.02989, params: {'min_samples_split': 1100, 'max_depth': 11}, mean: 0.74569, std: 0.12724, params: {'min_samples_split': 300, 'max_depth': 12}, mean: 0.76255, std: 0.20129, params: {'min_samples_split': 400, 'max_depth': 12}, mean: 0.76678, std: 0.17466, params: {'min_samples_split': 500, 'max_depth': 12}, mean: 0.80644, std: 0.20138, params: {'min_samples_split': 600, 'max_depth': 12}, mean: 0.90118, std: 0.03611, params: {'min_samples_split': 700, 'max_depth': 12}, mean: 0.90435, std: 0.03999, params: {'min_samples_split': 800, 'max_depth': 12}, mean: 0.89600, std: 0.05054, params: {'min_samples_split': 900, 'max_depth': 12}, mean: 0.80067, std: 0.20549, params: {'min_samples_split': 1000, 'max_depth': 12}, mean: 0.87741, std: 0.04863, params: {'min_samples_split': 1100, 'max_depth': 12}, mean: 0.74941, std: 0.13855, params: {'min_samples_split': 300, 'max_depth': 13}, mean: 0.70027, std: 0.19054, params: {'min_samples_split': 400, 'max_depth': 13}, mean: 0.74400, std: 0.18077, params: {'min_samples_split': 500, 'max_depth': 13}, mean: 0.77715, std: 0.19161, params: {'min_samples_split': 600, 'max_depth': 13}, mean: 0.76248, std: 0.17165, params: {'min_samples_split': 700, 'max_depth': 13}, mean: 0.78705, std: 0.16556, params: {'min_samples_split': 800, 'max_depth': 13}, mean: 0.69161, std: 0.27607, params: {'min_samples_split': 900, 'max_depth': 13}, mean: 0.79497, std: 0.23222, params: {'min_samples_split': 1000, 'max_depth': 13}, mean: 0.82247, std: 0.10824, params: {'min_samples_split': 1100, 'max_depth': 13}, mean: 0.86736, std: 0.07383, params: {'min_samples_split': 300, 'max_depth': 14}, mean: 0.85199, std: 0.09168, params: {'min_samples_split': 400, 'max_depth': 14}, mean: 0.76801, std: 0.20868, params: {'min_samples_split': 500, 'max_depth': 14}, mean: 0.88902, std: 0.06643, params: {'min_samples_split': 600, 'max_depth': 14}, mean: 0.85839, std: 0.10308, params: {'min_samples_split': 700, 'max_depth': 14}, mean: 0.87803, std: 0.07034, params: {'min_samples_split': 800, 'max_depth': 14}, mean: 0.90413, std: 0.04570, params: {'min_samples_split': 900, 'max_depth': 14}, mean: 0.77826, std: 0.21846, params: {'min_samples_split': 1000, 'max_depth': 14}, mean: 0.82408, std: 0.12151, params: {'min_samples_split': 1100, 'max_depth': 14}] {'min_samples_split': 800, 'max_depth': 11} 0.913179661042\n"
     ]
    },
    {
     "name": "stderr",
     "output_type": "stream",
     "text": [
      "/usr/local/lib/python3.5/dist-packages/sklearn/model_selection/_search.py:667: DeprecationWarning: The grid_scores_ attribute was deprecated in version 0.18 in favor of the more elaborate cv_results_ attribute. The grid_scores_ attribute will not be available from 0.20\n",
      "  DeprecationWarning)\n"
     ]
    }
   ],
   "source": [
    "min_split = [x for x in range(300,1101,100)]\n",
    "depth = [x for x in range(5,15,1)]\n",
    "second_tune = {'max_depth':depth, 'min_samples_split':min_split}\n",
    "second_search = GridSearchCV(estimator=GradientBoostingClassifier(learning_rate=0.05,n_estimators = 40,\n",
    "                                                                  min_samples_split=450,\n",
    "                                                                 min_samples_leaf=70,\n",
    "                                                                  max_depth=8,max_features='sqrt',subsample=0.8, \n",
    "                                                                 random_state=15\n",
    "                                                                 )\n",
    "                   , param_grid=second_tune,scoring='roc_auc', n_jobs=6, iid=False, cv=5)\n",
    "\n",
    "second_search.fit(train_data[features], train_data[\"Class\"])\n",
    "\n",
    "print(second_search.grid_scores_ , second_search.best_params_, second_search.best_score_)"
   ]
  },
  {
   "cell_type": "markdown",
   "metadata": {
    "collapsed": true
   },
   "source": [
    "Following from the result above. We found our max_depth and min_samples_split parameters to be 11 and 800 respectively.With a CV of 0.91317, Good!!!. Now lets go ahead to get our min_samples_leaf."
   ]
  },
  {
   "cell_type": "code",
   "execution_count": 7,
   "metadata": {
    "collapsed": false
   },
   "outputs": [
    {
     "name": "stdout",
     "output_type": "stream",
     "text": [
      "[mean: 0.74225, std: 0.17400, params: {'min_samples_leaf': 20}, mean: 0.58945, std: 0.24913, params: {'min_samples_leaf': 30}, mean: 0.70034, std: 0.23398, params: {'min_samples_leaf': 40}, mean: 0.71706, std: 0.26419, params: {'min_samples_leaf': 50}, mean: 0.64046, std: 0.19419, params: {'min_samples_leaf': 60}, mean: 0.91318, std: 0.03047, params: {'min_samples_leaf': 70}, mean: 0.72246, std: 0.22371, params: {'min_samples_leaf': 80}, mean: 0.74849, std: 0.21372, params: {'min_samples_leaf': 90}, mean: 0.62931, std: 0.26357, params: {'min_samples_leaf': 100}, mean: 0.89877, std: 0.04033, params: {'min_samples_leaf': 110}, mean: 0.92552, std: 0.02703, params: {'min_samples_leaf': 120}, mean: 0.90946, std: 0.04418, params: {'min_samples_leaf': 130}, mean: 0.96377, std: 0.02846, params: {'min_samples_leaf': 140}, mean: 0.93027, std: 0.05449, params: {'min_samples_leaf': 150}, mean: 0.96403, std: 0.03523, params: {'min_samples_leaf': 160}, mean: 0.97249, std: 0.02354, params: {'min_samples_leaf': 170}, mean: 0.80398, std: 0.24353, params: {'min_samples_leaf': 180}, mean: 0.93263, std: 0.06131, params: {'min_samples_leaf': 190}] {'min_samples_leaf': 170} 0.972488450484\n"
     ]
    },
    {
     "name": "stderr",
     "output_type": "stream",
     "text": [
      "/usr/local/lib/python3.5/dist-packages/sklearn/model_selection/_search.py:667: DeprecationWarning: The grid_scores_ attribute was deprecated in version 0.18 in favor of the more elaborate cv_results_ attribute. The grid_scores_ attribute will not be available from 0.20\n",
      "  DeprecationWarning)\n"
     ]
    }
   ],
   "source": [
    "min_sample_leaf = [x for x in range(20,200,10)]\n",
    "third_tune = {'min_samples_leaf':min_sample_leaf}\n",
    "third_search = GridSearchCV(estimator=GradientBoostingClassifier(learning_rate=0.05,n_estimators = 40,\n",
    "                                                                  min_samples_split=800,\n",
    "                                                                 min_samples_leaf=50,\n",
    "                                                                 max_depth=11,max_features='sqrt',subsample=0.8, \n",
    "                                                                 random_state=15, \n",
    "                                                                 )\n",
    "                   , param_grid=third_tune,scoring='roc_auc', n_jobs=6, iid=False, cv=5)\n",
    "\n",
    "third_search.fit(train_data[features], train_data[\"Class\"])\n",
    "\n",
    "print(third_search.grid_scores_ , third_search.best_params_, third_search.best_score_)"
   ]
  },
  {
   "cell_type": "markdown",
   "metadata": {
    "collapsed": true
   },
   "source": [
    "We found a higher CV to be 0.97248,Wow!!!. We are doing great.\n",
    "Now let's see how far we've gone with the tunning."
   ]
  },
  {
   "cell_type": "code",
   "execution_count": 9,
   "metadata": {
    "collapsed": false
   },
   "outputs": [
    {
     "name": "stdout",
     "output_type": "stream",
     "text": [
      "----------------------Model performance-----------------------\n",
      "Accuracy score:  0.999280221902\n",
      "AUC:  0.994999190413\n",
      "CV score: Mean - 0.972488450484232, Max - 0.9972589541103879, Min - 0.9309959846226523, Std - 0.023537995775059176\n"
     ]
    },
    {
     "data": {
      "image/png": "[encoded data removed]",
      "text/plain": [
       "<matplotlib.figure.Figure at 0x7f1d811965f8>"
      ]
     },
     "metadata": {},
     "output_type": "display_data"
    },
    {
     "name": "stdout",
     "output_type": "stream",
     "text": [
      "None\n"
     ]
    }
   ],
   "source": [
    "clf = GradientBoostingClassifier(learning_rate=0.05,n_estimators = 40,min_samples_split=800,min_samples_leaf=170,\n",
    "                                max_depth=11,random_state=15,max_features='sqrt',subsample=0.8 )\n",
    "print(hackathon_GBC_model(clf, train_data, features))"
   ]
  },
  {
   "cell_type": "markdown",
   "metadata": {},
   "source": [
    "We can see a great improvement from about 0.61 to 0.97, We can still do more and also reduce the standard deviation. Let's tune the max_feat and also the subsample."
   ]
  },
  {
   "cell_type": "code",
   "execution_count": 6,
   "metadata": {
    "collapsed": false
   },
   "outputs": [
    {
     "name": "stdout",
     "output_type": "stream",
     "text": [
      "[mean: 0.77553, std: 0.25845, params: {'max_features': 10}, mean: 0.94608, std: 0.03977, params: {'max_features': 12}, mean: 0.93087, std: 0.05701, params: {'max_features': 14}, mean: 0.76162, std: 0.30697, params: {'max_features': 16}, mean: 0.80063, std: 0.27791, params: {'max_features': 18}, mean: 0.63385, std: 0.26569, params: {'max_features': 20}, mean: 0.72653, std: 0.29739, params: {'max_features': 22}, mean: 0.29355, std: 0.20090, params: {'max_features': 24}, mean: 0.35048, std: 0.21206, params: {'max_features': 26}, mean: 0.21711, std: 0.06475, params: {'max_features': 28}] {'max_features': 12} 0.946083854991\n"
     ]
    },
    {
     "name": "stderr",
     "output_type": "stream",
     "text": [
      "/usr/local/lib/python3.5/dist-packages/sklearn/model_selection/_search.py:667: DeprecationWarning: The grid_scores_ attribute was deprecated in version 0.18 in favor of the more elaborate cv_results_ attribute. The grid_scores_ attribute will not be available from 0.20\n",
      "  DeprecationWarning)\n"
     ]
    }
   ],
   "source": [
    "max_feat = [x for x in range(10,29,2)]\n",
    "fourth_tune = {'max_features':max_feat}\n",
    "fourth_search = GridSearchCV(estimator=GradientBoostingClassifier(learning_rate=0.05,n_estimators = 40,\n",
    "                                                                  min_samples_split=800,\n",
    "                                                                 min_samples_leaf=170,\n",
    "                                                                 max_depth=11,max_features='sqrt',subsample=0.8, \n",
    "                                                                 random_state=15, \n",
    "                                                                 )\n",
    "                   , param_grid=fourth_tune,scoring='roc_auc', n_jobs=6, iid=False, cv=5)\n",
    "\n",
    "fourth_search.fit(train_data[features], train_data[\"Class\"])\n",
    "\n",
    "print(fourth_search.grid_scores_ , fourth_search.best_params_, fourth_search.best_score_)"
   ]
  },
  {
   "cell_type": "code",
   "execution_count": 9,
   "metadata": {
    "collapsed": false
   },
   "outputs": [
    {
     "name": "stdout",
     "output_type": "stream",
     "text": [
      "[mean: 0.96676, std: 0.02663, params: {'subsample': 0.5}, mean: 0.97170, std: 0.02276, params: {'subsample': 0.55}, mean: 0.95399, std: 0.04509, params: {'subsample': 0.6}, mean: 0.78809, std: 0.36052, params: {'subsample': 0.65}, mean: 0.82433, std: 0.28167, params: {'subsample': 0.7}] {'subsample': 0.55} 0.971695691546\n"
     ]
    },
    {
     "name": "stderr",
     "output_type": "stream",
     "text": [
      "/usr/local/lib/python3.5/dist-packages/sklearn/model_selection/_search.py:667: DeprecationWarning: The grid_scores_ attribute was deprecated in version 0.18 in favor of the more elaborate cv_results_ attribute. The grid_scores_ attribute will not be available from 0.20\n",
      "  DeprecationWarning)\n"
     ]
    }
   ],
   "source": [
    "sub_sample = [0.5,0.55,0.6,0.65,0.7]\n",
    "fifth_tune = {'subsample': sub_sample}\n",
    "fifth_search = GridSearchCV(estimator=GradientBoostingClassifier(learning_rate=0.05,n_estimators = 40,\n",
    "                                                                  min_samples_split=800,\n",
    "                                                                 min_samples_leaf=170,\n",
    "                                                                 max_depth=11,max_features=12,subsample=0.8, \n",
    "                                                                 random_state=15, \n",
    "                                                                 )\n",
    "                   ,param_grid=fifth_tune,scoring='roc_auc', n_jobs=6, iid=False, cv=5)\n",
    "\n",
    "fifth_search.fit(train_data[features], train_data[\"Class\"])\n",
    "\n",
    "print(fifth_search.grid_scores_ , fifth_search.best_params_, fifth_search.best_score_)"
   ]
  },
  {
   "cell_type": "markdown",
   "metadata": {},
   "source": [
    "Finally, we got a subsample of 0.55 and max_feature of 12. Good!!!."
   ]
  },
  {
   "cell_type": "code",
   "execution_count": 10,
   "metadata": {
    "collapsed": false
   },
   "outputs": [
    {
     "name": "stdout",
     "output_type": "stream",
     "text": [
      "----------------------Model performance-----------------------\n",
      "Accuracy score:  0.999087110705\n",
      "AUC:  0.993653566351\n",
      "CV score: Mean - 0.9716956915462518, Max - 0.9949768532092758, Min - 0.93810861880793, Std - 0.022757777157603284\n"
     ]
    },
    {
     "data": {
      "image/png": "[encoded data removed]",
      "text/plain": [
       "<matplotlib.figure.Figure at 0x7f5c80414518>"
      ]
     },
     "metadata": {},
     "output_type": "display_data"
    },
    {
     "name": "stdout",
     "output_type": "stream",
     "text": [
      "None\n"
     ]
    }
   ],
   "source": [
    "clf = GradientBoostingClassifier(learning_rate=0.05,n_estimators = 40,min_samples_split=800,min_samples_leaf=170,\n",
    "                                max_depth=11,random_state=15,max_features=12,subsample=0.55 )\n",
    "print(hackathon_GBC_model(clf, train_data, features))"
   ]
  },
  {
   "cell_type": "markdown",
   "metadata": {
    "collapsed": true
   },
   "source": [
    "We are done!!! we got our CV to be 0.97169 and AUC to be 0.9936. "
   ]
  },
  {
   "cell_type": "markdown",
   "metadata": {},
   "source": [
    "We could reduce our learning rate while also increasing our number of estimators to get higher CV score.\n",
    "But this did the job for me to win the devcentre hackathon.\n",
    "Thanks to devcentre for the opportunity."
   ]
  },
  {
   "cell_type": "code",
   "execution_count": null,
   "metadata": {
    "collapsed": true
   },
   "outputs": [],
   "source": []
  }
 ],
 "metadata": {
  "kernelspec": {
   "display_name": "Python 3",
   "language": "python",
   "name": "python3"
  },
  "language_info": {
   "codemirror_mode": {
    "name": "ipython",
    "version": 3
   },
   "file_extension": ".py",
   "mimetype": "text/x-python",
   "name": "python",
   "nbconvert_exporter": "python",
   "pygments_lexer": "ipython3",
   "version": "3.5.2"
  }
 },
 "nbformat": 4,
 "nbformat_minor": 1
}
